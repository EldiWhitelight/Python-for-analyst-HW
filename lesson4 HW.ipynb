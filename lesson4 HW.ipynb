{
 "cells": [
  {
   "cell_type": "code",
   "execution_count": null,
   "metadata": {
    "id": "yudABcf8FBp7"
   },
   "outputs": [],
   "source": [
    "#На основе переменной quality с оценками вина создать новую переменную good: если quality > 5, то 1, иначе 0.\n",
    "import pandas as pd\n",
    "import matplotlib.pyplot as plt\n",
    "import seaborn as sns\n",
    "\n",
    "ww = pd.read_csv('/content/winequality-white.csv', sep=';')\n",
    "wr = pd.read_csv('/content/winequality-red.csv', sep=';')\n",
    "\n",
    "df = pd.concat([ww, wr])\n",
    "df['good'] = df['quality'].apply(lambda x: 1 if x > 5 else 0)"
   ]
  },
  {
   "cell_type": "code",
   "execution_count": null,
   "metadata": {
    "id": "n4WwzBcEq5cj"
   },
   "outputs": [],
   "source": [
    "#Соответствие крепости и качества вина\n",
    "dlw = df.query('good == 1').groupby('quality')['alcohol'].agg(mean='mean').reset_index().sort_values(by='quality')\n",
    "dlh = df.query('good == 0').groupby('quality')['alcohol'].agg(mean='mean').reset_index().sort_values(by='quality')\n",
    "\n",
    "plt.figure(figsize=(10, 8))\n",
    "plt.plot(dlw['quality'], dlw['mean'])\n",
    "plt.plot(dlh['quality'], dlh['mean'])\n",
    "plt.title('Соответствие крепости и качества вина')\n",
    "plt.xlabel('Качество вина')\n",
    "plt.ylabel('Крепость')\n",
    "plt.show()"
   ]
  },
  {
   "cell_type": "code",
   "execution_count": null,
   "metadata": {
    "id": "39R7ARd8rHBL"
   },
   "outputs": [],
   "source": [
    "##Соответствие плотности и качества вина\n",
    "plt.figure(figsize=(10, 8))\n",
    "plt.hist(df['fixed acidity'].loc[df['good'] == 1], label='Высокое качество')\n",
    "plt.hist(df['fixed acidity'].loc[df['good'] == 0], label='Низкое качество')\n",
    "plt.title('Соответствие плотности и качества вина')\n",
    "plt.xlabel('Плотность')\n",
    "plt.ylabel('Количество сортов')\n",
    "plt.legend()\n",
    "plt.show()"
   ]
  },
  {
   "cell_type": "code",
   "execution_count": null,
   "metadata": {},
   "outputs": [],
   "source": [
    "#Распределение вин по остаточном сахару\n",
    "import numpy as np\n",
    "rs = pd.crosstab(index = df['residual sugar'], columns = df['good']).reset_index()\n",
    "plt.figure(figsize=(16, 12)) \n",
    "n_ticks = np.arange(len(rs[1]))\n",
    "offset = 0.1\n",
    "w = 0.2\n",
    "plt.bar(n_ticks + offset, rs[1], width = w) \n",
    "plt.bar(n_ticks - offset, rs[0], width = w) \n",
    "plt.title('Распределение вин по остаточном сахару') \n",
    "plt.xlabel('Количество') \n",
    "plt.ylabel('Остаточный сахар') \n",
    "plt.legend(('Высокое качество', \"Низкое качество\"))\n",
    "plt.show()"
   ]
  },
  {
   "cell_type": "code",
   "execution_count": null,
   "metadata": {
    "id": "xzFIGBVWQdRg"
   },
   "outputs": [],
   "source": [
    "#Соответствие рН и качества вина\n",
    "plt.figure(figsize=(10, 8)) \n",
    "ph1 = df['pH'].loc[df['good'] == 1].value_counts().reset_index() \n",
    "ph2 = df['pH'].loc[df['good'] == 0].value_counts().reset_index() \n",
    "plt.bar(ph1['index'], ph1['pH']) \n",
    "plt.bar(ph2['index'], ph2['pH']) \n",
    "plt.title('Распределение рН') \n",
    "plt.xlabel('рН') \n",
    "plt.ylabel('Количество') \n",
    "plt.legend(('Высокое качество', \"Низкое качество\"))\n",
    "plt.show()"
   ]
  },
  {
   "cell_type": "code",
   "execution_count": null,
   "metadata": {
    "id": "04xaT9DYT9o8"
   },
   "outputs": [],
   "source": [
    "correlation = df.corr()\n",
    "plt.figure(figsize=(12, 10))\n",
    "sns.heatmap(correlation, cmap = 'Blues', annot = True)\n",
    "plt.title('Матрица корреляции') \n",
    "plt.show()"
   ]
  }
 ],
 "metadata": {
  "colab": {
   "provenance": []
  },
  "kernelspec": {
   "display_name": "Python 3 (ipykernel)",
   "language": "python",
   "name": "python3"
  },
  "language_info": {
   "codemirror_mode": {
    "name": "ipython",
    "version": 3
   },
   "file_extension": ".py",
   "mimetype": "text/x-python",
   "name": "python",
   "nbconvert_exporter": "python",
   "pygments_lexer": "ipython3",
   "version": "3.9.13"
  }
 },
 "nbformat": 4,
 "nbformat_minor": 1
}
