{
 "cells": [
  {
   "cell_type": "code",
   "execution_count": 1,
   "id": "bbaad91c",
   "metadata": {
    "scrolled": true
   },
   "outputs": [
    {
     "name": "stdout",
     "output_type": "stream",
     "text": [
      "Введите фамилию: апро\n",
      "Введите имя: апро\n",
      "Введите отчество: апро\n",
      "ААА\n"
     ]
    }
   ],
   "source": [
    "# 1. Написать цикл для выведения на экран каждой буквы своего ФИО.\n",
    "a = input(\"Введите фамилию: \")\n",
    "b = input(\"Введите имя: \")\n",
    "c = input(\"Введите отчество: \")\n",
    "\n",
    "def print_fio(a, b, c):\n",
    "    print(f\"{a[0].upper()}{b[0].upper()}{c[0].upper()}\")\n",
    "\n",
    "print_fio (a, b, c)"
   ]
  },
  {
   "cell_type": "code",
   "execution_count": 7,
   "id": "8127f37d",
   "metadata": {},
   "outputs": [
    {
     "name": "stdout",
     "output_type": "stream",
     "text": [
      "Введите ФИО: прр шшг горо\n",
      "П Ш Г\n"
     ]
    }
   ],
   "source": [
    "name = input('Введите ФИО: ')\n",
    "\n",
    "initials = []\n",
    "for i in name.split():\n",
    "    initials.append(i[0].upper())\n",
    "#Отдельно вывести\n",
    "print(' '.join(initials))\n"
   ]
  },
  {
   "cell_type": "code",
   "execution_count": 10,
   "id": "542f0742",
   "metadata": {},
   "outputs": [
    {
     "name": "stdout",
     "output_type": "stream",
     "text": [
      "Введите сколько $ нужно перевести в Euro \n",
      "1\n",
      "0.85\n"
     ]
    }
   ],
   "source": [
    "# 2. Написать функцию для перевода доллара в евро c округлением до 2х знаков после запятой, если известно, \n",
    "#что текущий курс составляет 1.17 долларов за один евро.\n",
    "\n",
    "# 1 Euro = 1.17 Dollar\n",
    "dollar = int(input('Введите сколько $ нужно перевести в Euro \\n'))\n",
    "def convert (dollar):\n",
    "     amount = (1/1.17)*dollar\n",
    "     amount = round(amount,2)\n",
    "     return amount\n",
    "print(convert(dollar))\n"
   ]
  },
  {
   "cell_type": "code",
   "execution_count": null,
   "id": "8a8766af",
   "metadata": {},
   "outputs": [],
   "source": []
  }
 ],
 "metadata": {
  "kernelspec": {
   "display_name": "Python 3 (ipykernel)",
   "language": "python",
   "name": "python3"
  },
  "language_info": {
   "codemirror_mode": {
    "name": "ipython",
    "version": 3
   },
   "file_extension": ".py",
   "mimetype": "text/x-python",
   "name": "python",
   "nbconvert_exporter": "python",
   "pygments_lexer": "ipython3",
   "version": "3.9.13"
  }
 },
 "nbformat": 4,
 "nbformat_minor": 5
}
