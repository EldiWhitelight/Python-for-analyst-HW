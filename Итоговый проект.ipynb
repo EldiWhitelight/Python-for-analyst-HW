{
 "cells": [
  {
   "cell_type": "code",
   "execution_count": null,
   "metadata": {
    "execution": {
     "iopub.execute_input": "2023-05-27T03:41:35.925309Z",
     "iopub.status.busy": "2023-05-27T03:41:35.924635Z",
     "iopub.status.idle": "2023-05-27T03:41:35.964401Z",
     "shell.execute_reply": "2023-05-27T03:41:35.963438Z",
     "shell.execute_reply.started": "2023-05-27T03:41:35.925271Z"
    },
    "id": "qSYfyj06qO4l"
   },
   "outputs": [],
   "source": [
    "import matplotlib.pyplot as plt\n",
    "import seaborn as sns\n",
    "import warnings\n",
    "warnings.filterwarnings('ignore')\n",
    "import io\n",
    "import numpy as np\n",
    "import pandas as pd\n",
    "from zipfile import ZipFile\n",
    "from urllib.request import urlopen\n",
    "from pandas.api.types import is_numeric_dtype\n",
    "from sklearn.model_selection import train_test_split\n",
    "from sklearn.linear_model import LinearRegression\n",
    "from sklearn.model_selection import cross_val_score\n",
    "from sklearn.metrics import mean_absolute_error\n",
    "from sklearn.metrics import mean_absolute_percentage_error"
   ]
  },
  {
   "cell_type": "code",
   "execution_count": null,
   "metadata": {
    "execution": {
     "iopub.execute_input": "2023-05-27T03:41:38.415743Z",
     "iopub.status.busy": "2023-05-27T03:41:38.415150Z",
     "iopub.status.idle": "2023-05-27T03:41:40.847445Z",
     "shell.execute_reply": "2023-05-27T03:41:40.846464Z",
     "shell.execute_reply.started": "2023-05-27T03:41:38.415704Z"
    },
    "id": "MbPcKwzyqO4m"
   },
   "outputs": [],
   "source": [
    "path = '/content/sample_data/' \n",
    "train_file = ZipFile(path + 'train.csv.zip')\n",
    "train = pd.read_csv(train_file.open('train.csv'))\n",
    "macro_file = ZipFile(path + 'macro.csv.zip')\n",
    "macro = pd.read_csv(macro_file.open('macro.csv'))\n",
    "train = train.merge(macro, on='timestamp', how='inner')"
   ]
  },
  {
   "cell_type": "code",
   "execution_count": null,
   "metadata": {
    "execution": {
     "iopub.execute_input": "2023-05-27T03:41:51.742331Z",
     "iopub.status.busy": "2023-05-27T03:41:51.741901Z",
     "iopub.status.idle": "2023-05-27T03:41:51.908547Z",
     "shell.execute_reply": "2023-05-27T03:41:51.907335Z",
     "shell.execute_reply.started": "2023-05-27T03:41:51.742249Z"
    },
    "id": "UWhupnAsqO4q"
   },
   "outputs": [],
   "source": [
    "# проверием наличие столбцов без единого значения\n",
    "for col in train:\n",
    "    if train[col].isna().sum() == train.shape[0]:\n",
    "        print(col)\n",
    "\n",
    "feature_columns = [col for col in train.columns if col not in ['id', 'timestamp', 'price_doc']]\n",
    "\n",
    "# удаляем дубликаты строк\n",
    "train.drop_duplicates(subset=feature_columns, inplace=True)\n",
    "\n",
    "# разделим количественные и категориальные признаки\n",
    "cat_features=[]\n",
    "for col in feature_columns:\n",
    "    if not is_numeric_dtype(train[col]):\n",
    "        cat_features.append(col)      \n",
    "num_features = []\n",
    "for col in feature_columns:\n",
    "    if col not in cat_features:\n",
    "        num_features.append(col)\n",
    "len(cat_features), len(num_features)\n",
    "\n",
    "# категориальные признаки, где есть пропуски\n",
    "for col in cat_features:\n",
    "    if train[col].isna().sum().any():\n",
    "        print(col)\n",
    "\n",
    "# выводим распределение по всем категориальным признакам\n",
    "# последние три не являются категориальными признаками\n",
    "for col in cat_features:\n",
    "    print(train[col].value_counts())\n",
    "    print('--'*25)"
   ]
  },
  {
   "cell_type": "code",
   "execution_count": null,
   "metadata": {
    "execution": {
     "iopub.execute_input": "2023-05-27T03:42:40.426563Z",
     "iopub.status.busy": "2023-05-27T03:42:40.426136Z",
     "iopub.status.idle": "2023-05-27T03:42:40.433355Z",
     "shell.execute_reply": "2023-05-27T03:42:40.431346Z",
     "shell.execute_reply.started": "2023-05-27T03:42:40.426532Z"
    },
    "id": "MKXLas0lqO4t"
   },
   "outputs": [],
   "source": [
    "def get_number(value):\n",
    "    \"\"\"Функция для преобразования строки в число\n",
    "       Если такое преобразование невозможно, то возвращаем None\"\"\"\n",
    "    try:\n",
    "        return float(value.replace(',', '.'))\n",
    "    except Exception as ex:\n",
    "        return None"
   ]
  },
  {
   "cell_type": "code",
   "execution_count": null,
   "metadata": {
    "execution": {
     "iopub.execute_input": "2023-05-27T03:42:40.998314Z",
     "iopub.status.busy": "2023-05-27T03:42:40.997063Z",
     "iopub.status.idle": "2023-05-27T03:42:41.095292Z",
     "shell.execute_reply": "2023-05-27T03:42:41.094000Z",
     "shell.execute_reply.started": "2023-05-27T03:42:40.998259Z"
    },
    "id": "oSJR4G6JqO4t"
   },
   "outputs": [],
   "source": [
    "# преобразуем згачения трех стлобцов в числовые\n",
    "train['child_on_acc_pre_school'] = train['child_on_acc_pre_school'].apply(get_number)\n",
    "train['modern_education_share'] = train['modern_education_share'].apply(get_number)\n",
    "train['old_education_build_share'] = train['old_education_build_share'].apply(get_number)"
   ]
  },
  {
   "cell_type": "code",
   "execution_count": null,
   "metadata": {
    "execution": {
     "iopub.execute_input": "2023-05-27T03:42:42.107332Z",
     "iopub.status.busy": "2023-05-27T03:42:42.106929Z",
     "iopub.status.idle": "2023-05-27T03:42:42.113055Z",
     "shell.execute_reply": "2023-05-27T03:42:42.111573Z",
     "shell.execute_reply.started": "2023-05-27T03:42:42.107301Z"
    },
    "id": "o6VQ_YYcqO4t"
   },
   "outputs": [],
   "source": [
    "# уберем эти три признака с категориальных фичей и добавим в количественные\n",
    "num_features = num_features + cat_features[-3:]\n",
    "cat_features = cat_features[:-3]\n",
    "\n",
    "# смотрим пропуски в категориальных фичах\n",
    "# пропусков нет \n",
    "train[cat_features].info()"
   ]
  },
  {
   "cell_type": "code",
   "execution_count": null,
   "metadata": {
    "execution": {
     "iopub.execute_input": "2023-05-27T03:42:47.797878Z",
     "iopub.status.busy": "2023-05-27T03:42:47.797434Z",
     "iopub.status.idle": "2023-05-27T03:42:47.898206Z",
     "shell.execute_reply": "2023-05-27T03:42:47.896931Z",
     "shell.execute_reply.started": "2023-05-27T03:42:47.797843Z"
    },
    "id": "0a4YvUVnqO4u"
   },
   "outputs": [],
   "source": [
    "# категориальные признаки превращаем в количественные\n",
    "for col in cat_features:\n",
    "    train[col] = train[col].astype('category').cat.codes"
   ]
  },
  {
   "cell_type": "code",
   "execution_count": null,
   "metadata": {
    "id": "NyB0oSIKF-t2"
   },
   "outputs": [],
   "source": [
    "# заполняем пропуски медианой в количественных признаках\n",
    "for col in num_features:\n",
    "    train[col] = train[col].fillna(train[col].median())"
   ]
  },
  {
   "cell_type": "code",
   "execution_count": null,
   "metadata": {
    "execution": {
     "iopub.execute_input": "2023-05-27T03:42:55.946774Z",
     "iopub.status.busy": "2023-05-27T03:42:55.946289Z",
     "iopub.status.idle": "2023-05-27T03:42:56.194696Z",
     "shell.execute_reply": "2023-05-27T03:42:56.193397Z",
     "shell.execute_reply.started": "2023-05-27T03:42:55.946736Z"
    },
    "id": "M-q9O39NqO4v"
   },
   "outputs": [],
   "source": [
    "# график ящик с усами признака children_preschool\n",
    "sns.boxplot(train['children_preschool'])"
   ]
  },
  {
   "cell_type": "code",
   "execution_count": null,
   "metadata": {
    "execution": {
     "iopub.execute_input": "2023-05-27T03:42:56.531846Z",
     "iopub.status.busy": "2023-05-27T03:42:56.531390Z",
     "iopub.status.idle": "2023-05-27T03:42:56.757686Z",
     "shell.execute_reply": "2023-05-27T03:42:56.756434Z",
     "shell.execute_reply.started": "2023-05-27T03:42:56.531798Z"
    },
    "id": "gSSl_PMIqO4v"
   },
   "outputs": [],
   "source": [
    "# график ящик с усами признака num_room\n",
    "sns.boxplot(train['num_room'])"
   ]
  },
  {
   "cell_type": "code",
   "execution_count": null,
   "metadata": {
    "execution": {
     "iopub.execute_input": "2023-05-27T03:43:01.886677Z",
     "iopub.status.busy": "2023-05-27T03:43:01.886274Z",
     "iopub.status.idle": "2023-05-27T03:43:03.828772Z",
     "shell.execute_reply": "2023-05-27T03:43:03.827268Z",
     "shell.execute_reply.started": "2023-05-27T03:43:01.886632Z"
    },
    "id": "0Jf1yumvqO4v"
   },
   "outputs": [],
   "source": [
    "# только по двум графикам можно определить наличие выбросов (аномальных значений)\n",
    "# заменим аномальные значения медианой \n",
    "def replace_outliers(df, column_name):\n",
    "    median = df[column_name].median()\n",
    "    std = df[column_name].std()\n",
    "    outliers = ((df[column_name] - median).abs()) > 3*std\n",
    "    df[outliers][column_name] = np.nan\n",
    "    df[column_name].fillna(median, inplace=True)\n",
    "\n",
    "for col in num_features:\n",
    "    replace_outliers(train, col)"
   ]
  },
  {
   "cell_type": "code",
   "execution_count": null,
   "metadata": {
    "execution": {
     "iopub.execute_input": "2023-05-27T03:46:46.002960Z",
     "iopub.status.busy": "2023-05-27T03:46:46.002477Z",
     "iopub.status.idle": "2023-05-27T03:46:46.649136Z",
     "shell.execute_reply": "2023-05-27T03:46:46.648046Z",
     "shell.execute_reply.started": "2023-05-27T03:46:46.002923Z"
    },
    "id": "wR9jdT_CqO4v"
   },
   "outputs": [],
   "source": [
    "# смотрим на распределение целевой переменной\n",
    "\n",
    "fig, ax = plt.subplots(figsize=(10,5))\n",
    "sns.distplot(train['price_doc'].values, bins=100, kde=True, ax=ax)\n",
    "plt.xlabel('price_doc', fontsize=12)\n",
    "plt.show()"
   ]
  },
  {
   "cell_type": "code",
   "execution_count": null,
   "metadata": {
    "execution": {
     "iopub.execute_input": "2023-05-27T03:51:22.099354Z",
     "iopub.status.busy": "2023-05-27T03:51:22.098841Z",
     "iopub.status.idle": "2023-05-27T03:51:22.744670Z",
     "shell.execute_reply": "2023-05-27T03:51:22.743424Z",
     "shell.execute_reply.started": "2023-05-27T03:51:22.099316Z"
    },
    "id": "XgguIHKJqO4w"
   },
   "outputs": [],
   "source": [
    "# так как распределение не соотвествует нормальному, применяем логарифмирование\n",
    "# после логарифмирования распеределение стала близка к нормальному\n",
    "train['price_doc_log'] = np.log(train['price_doc'])\n",
    "fig, ax = plt.subplots(figsize=(10,5))\n",
    "sns.distplot(train['price_doc_log'].values, bins=100, kde=True, ax=ax)\n",
    "plt.xlabel('log(price_doc)', fontsize=12)\n",
    "plt.show()"
   ]
  },
  {
   "cell_type": "code",
   "execution_count": null,
   "metadata": {
    "execution": {
     "iopub.execute_input": "2023-05-27T03:51:42.036451Z",
     "iopub.status.busy": "2023-05-27T03:51:42.035179Z",
     "iopub.status.idle": "2023-05-27T03:51:54.630747Z",
     "shell.execute_reply": "2023-05-27T03:51:54.629909Z",
     "shell.execute_reply.started": "2023-05-27T03:51:42.036411Z"
    },
    "id": "hxYZgeTaqO4w"
   },
   "outputs": [],
   "source": [
    "# смотрим на корреляцию признаков с целевой переменной\n",
    "\n",
    "pearson = train[feature_columns + ['price_doc_log']].corr(method='pearson')\n",
    "correlations = pearson['price_doc_log'][:-1]\n",
    "correlations[abs(correlations).argsort()[::-1]]"
   ]
  },
  {
   "cell_type": "code",
   "execution_count": null,
   "metadata": {
    "execution": {
     "iopub.execute_input": "2023-05-27T04:04:59.401401Z",
     "iopub.status.busy": "2023-05-27T04:04:59.400902Z",
     "iopub.status.idle": "2023-05-27T04:04:59.408769Z",
     "shell.execute_reply": "2023-05-27T04:04:59.405953Z",
     "shell.execute_reply.started": "2023-05-27T04:04:59.401367Z"
    },
    "id": "-3BhZoYDqO4x"
   },
   "outputs": [],
   "source": [
    "# у многих признаков очень мало корреляции с целевой переменной\n",
    "# удаляем те признаки, где корреляция меньше 0.1\n",
    "correlations = correlations[correlations >= 0.1]"
   ]
  },
  {
   "cell_type": "code",
   "execution_count": null,
   "metadata": {
    "execution": {
     "iopub.execute_input": "2023-05-27T04:10:30.889136Z",
     "iopub.status.busy": "2023-05-27T04:10:30.888710Z",
     "iopub.status.idle": "2023-05-27T04:10:37.946521Z",
     "shell.execute_reply": "2023-05-27T04:10:37.945338Z",
     "shell.execute_reply.started": "2023-05-27T04:10:30.889101Z"
    },
    "id": "SmE-aSlSqO4x"
   },
   "outputs": [],
   "source": [
    "# график корреляции признаков с целевой переменной\n",
    "cols_to_visualize = correlations[abs(correlations).argsort()[::-1]].index.values.tolist()\\\n",
    "                                                                        + ['price_doc_log']\n",
    "plt.figure(figsize=(20, 20))\n",
    "sns.heatmap(train[cols_to_visualize].corr(), cmap='viridis',\n",
    "            xticklabels=train[cols_to_visualize].corr().columns.values,\n",
    "            yticklabels=train[cols_to_visualize].corr().columns.values)\n",
    "plt.title(\"График матрицы корреляции\", fontsize=20)"
   ]
  },
  {
   "cell_type": "code",
   "execution_count": null,
   "metadata": {
    "execution": {
     "iopub.execute_input": "2023-05-27T04:14:00.480016Z",
     "iopub.status.busy": "2023-05-27T04:14:00.477462Z",
     "iopub.status.idle": "2023-05-27T04:14:00.486105Z",
     "shell.execute_reply": "2023-05-27T04:14:00.485004Z",
     "shell.execute_reply.started": "2023-05-27T04:14:00.479959Z"
    },
    "id": "8Z0mIkGpqO4x"
   },
   "outputs": [],
   "source": [
    "# список признаков для обучения\n",
    "features = list(correlations.index)\n",
    "print(features)"
   ]
  },
  {
   "cell_type": "code",
   "execution_count": null,
   "metadata": {
    "execution": {
     "iopub.execute_input": "2023-05-27T04:36:01.212870Z",
     "iopub.status.busy": "2023-05-27T04:36:01.212433Z",
     "iopub.status.idle": "2023-05-27T04:36:01.346567Z",
     "shell.execute_reply": "2023-05-27T04:36:01.345603Z",
     "shell.execute_reply.started": "2023-05-27T04:36:01.212834Z"
    },
    "id": "B9g9eGxZqO4x"
   },
   "outputs": [],
   "source": [
    "X, y = train[[col for col in list(train.columns) if 'price_doc' not in col]], train['price_doc_log']\n",
    "X_train, X_test, y_train, y_test = train_test_split(X, y, test_size=0.3, random_state=23, shuffle=True)"
   ]
  },
  {
   "cell_type": "code",
   "execution_count": null,
   "metadata": {
    "execution": {
     "iopub.execute_input": "2023-05-27T04:36:27.073644Z",
     "iopub.status.busy": "2023-05-27T04:36:27.073232Z",
     "iopub.status.idle": "2023-05-27T04:36:27.253692Z",
     "shell.execute_reply": "2023-05-27T04:36:27.252013Z",
     "shell.execute_reply.started": "2023-05-27T04:36:27.073611Z"
    },
    "id": "eirzg0zyqO4y"
   },
   "outputs": [],
   "source": [
    "# обучаем линейную регрессию\n",
    "model = LinearRegression()\n",
    "model.fit(X_train[features], y_train)\n",
    "\n",
    "# получаем важность признаков\n",
    "importance = model.coef_\n",
    "\n",
    "# объеднияем важность признаков с названиями столбцов\n",
    "importance = list(zip(list(X_train[features].columns), importance))\n",
    "# пролучаем важность признаков с положительным знаком и сортируем\n",
    "positive = [feature for feature in importance if feature[1] >= 0]\n",
    "positive = sorted(positive, key=lambda x: x[1], reverse=True)\n",
    "positive = pd.DataFrame(positive, columns=['feature', 'score'])\n",
    "# пролучаем важность признаков с отрицательным знаком и сортируем\n",
    "negative = [feature for feature in importance if feature[1] < 0]\n",
    "negative = sorted(negative, key=lambda x: x[1])\n",
    "negative = pd.DataFrame(negative, columns=['feature', 'score'])\n",
    "\n",
    "# для удобства создаем новый столбец признака с его номером\n",
    "positive['feature_num'] = positive['feature'] + '_' + list(map(str, list(positive.index.values))) \n",
    "negative['feature_num'] = negative['feature'] + '_' + list(map(str, list(negative.index.values))) "
   ]
  },
  {
   "cell_type": "code",
   "execution_count": null,
   "metadata": {
    "execution": {
     "iopub.execute_input": "2023-05-27T04:36:41.833230Z",
     "iopub.status.busy": "2023-05-27T04:36:41.832837Z",
     "iopub.status.idle": "2023-05-27T04:36:43.262702Z",
     "shell.execute_reply": "2023-05-27T04:36:43.261573Z",
     "shell.execute_reply.started": "2023-05-27T04:36:41.833201Z"
    },
    "id": "twgZUBn3qO4y"
   },
   "outputs": [],
   "source": [
    "#  рисуем графики важности признаков\n",
    "plt.figure(figsize=(10, 10))\n",
    "sns.barplot(y='feature_num', x='score', data=positive, orient='h')\n",
    "plt.title('Важность признаков', fontsize=18)\n",
    "\n",
    "plt.figure(figsize=(10, 10))\n",
    "sns.barplot(y='feature_num', x='score', data=negative, orient='h')\n",
    "plt.title('Важность признаков', fontsize=18)"
   ]
  },
  {
   "cell_type": "code",
   "execution_count": null,
   "metadata": {
    "execution": {
     "iopub.execute_input": "2023-05-27T04:36:44.458247Z",
     "iopub.status.busy": "2023-05-27T04:36:44.457918Z",
     "iopub.status.idle": "2023-05-27T04:36:44.464677Z",
     "shell.execute_reply": "2023-05-27T04:36:44.463389Z",
     "shell.execute_reply.started": "2023-05-27T04:36:44.458218Z"
    },
    "id": "PFcuLZqHqO4z"
   },
   "outputs": [],
   "source": [
    "# по первому графику отбираем 13 самых важных признаков, из второго 12\n",
    "most_important_features = positive['feature'].loc[:13].values.tolist() + negative['feature'].loc[:12].values.tolist()"
   ]
  },
  {
   "cell_type": "code",
   "execution_count": null,
   "metadata": {
    "colab": {
     "base_uri": "https://localhost:8080/",
     "height": 109
    },
    "execution": {
     "iopub.execute_input": "2023-05-27T04:37:17.013338Z",
     "iopub.status.busy": "2023-05-27T04:37:17.012898Z",
     "iopub.status.idle": "2023-05-27T04:37:17.627711Z",
     "shell.execute_reply": "2023-05-27T04:37:17.626482Z",
     "shell.execute_reply.started": "2023-05-27T04:37:17.013299Z"
    },
    "id": "3hzDScnGqO4z",
    "outputId": "07fa5ca8-4789-4b27-d12e-463de41ada1c"
   },
   "outputs": [
    {
     "name": "stdout",
     "output_type": "stream",
     "text": [
      "MAE:  -0.36414449616716477\n",
      "MAPE:  -0.023816098169988635\n"
     ]
    },
    {
     "data": {
      "text/html": [
       "<style>#sk-container-id-2 {color: black;background-color: white;}#sk-container-id-2 pre{padding: 0;}#sk-container-id-2 div.sk-toggleable {background-color: white;}#sk-container-id-2 label.sk-toggleable__label {cursor: pointer;display: block;width: 100%;margin-bottom: 0;padding: 0.3em;box-sizing: border-box;text-align: center;}#sk-container-id-2 label.sk-toggleable__label-arrow:before {content: \"▸\";float: left;margin-right: 0.25em;color: #696969;}#sk-container-id-2 label.sk-toggleable__label-arrow:hover:before {color: black;}#sk-container-id-2 div.sk-estimator:hover label.sk-toggleable__label-arrow:before {color: black;}#sk-container-id-2 div.sk-toggleable__content {max-height: 0;max-width: 0;overflow: hidden;text-align: left;background-color: #f0f8ff;}#sk-container-id-2 div.sk-toggleable__content pre {margin: 0.2em;color: black;border-radius: 0.25em;background-color: #f0f8ff;}#sk-container-id-2 input.sk-toggleable__control:checked~div.sk-toggleable__content {max-height: 200px;max-width: 100%;overflow: auto;}#sk-container-id-2 input.sk-toggleable__control:checked~label.sk-toggleable__label-arrow:before {content: \"▾\";}#sk-container-id-2 div.sk-estimator input.sk-toggleable__control:checked~label.sk-toggleable__label {background-color: #d4ebff;}#sk-container-id-2 div.sk-label input.sk-toggleable__control:checked~label.sk-toggleable__label {background-color: #d4ebff;}#sk-container-id-2 input.sk-hidden--visually {border: 0;clip: rect(1px 1px 1px 1px);clip: rect(1px, 1px, 1px, 1px);height: 1px;margin: -1px;overflow: hidden;padding: 0;position: absolute;width: 1px;}#sk-container-id-2 div.sk-estimator {font-family: monospace;background-color: #f0f8ff;border: 1px dotted black;border-radius: 0.25em;box-sizing: border-box;margin-bottom: 0.5em;}#sk-container-id-2 div.sk-estimator:hover {background-color: #d4ebff;}#sk-container-id-2 div.sk-parallel-item::after {content: \"\";width: 100%;border-bottom: 1px solid gray;flex-grow: 1;}#sk-container-id-2 div.sk-label:hover label.sk-toggleable__label {background-color: #d4ebff;}#sk-container-id-2 div.sk-serial::before {content: \"\";position: absolute;border-left: 1px solid gray;box-sizing: border-box;top: 0;bottom: 0;left: 50%;z-index: 0;}#sk-container-id-2 div.sk-serial {display: flex;flex-direction: column;align-items: center;background-color: white;padding-right: 0.2em;padding-left: 0.2em;position: relative;}#sk-container-id-2 div.sk-item {position: relative;z-index: 1;}#sk-container-id-2 div.sk-parallel {display: flex;align-items: stretch;justify-content: center;background-color: white;position: relative;}#sk-container-id-2 div.sk-item::before, #sk-container-id-2 div.sk-parallel-item::before {content: \"\";position: absolute;border-left: 1px solid gray;box-sizing: border-box;top: 0;bottom: 0;left: 50%;z-index: -1;}#sk-container-id-2 div.sk-parallel-item {display: flex;flex-direction: column;z-index: 1;position: relative;background-color: white;}#sk-container-id-2 div.sk-parallel-item:first-child::after {align-self: flex-end;width: 50%;}#sk-container-id-2 div.sk-parallel-item:last-child::after {align-self: flex-start;width: 50%;}#sk-container-id-2 div.sk-parallel-item:only-child::after {width: 0;}#sk-container-id-2 div.sk-dashed-wrapped {border: 1px dashed gray;margin: 0 0.4em 0.5em 0.4em;box-sizing: border-box;padding-bottom: 0.4em;background-color: white;}#sk-container-id-2 div.sk-label label {font-family: monospace;font-weight: bold;display: inline-block;line-height: 1.2em;}#sk-container-id-2 div.sk-label-container {text-align: center;}#sk-container-id-2 div.sk-container {/* jupyter's `normalize.less` sets `[hidden] { display: none; }` but bootstrap.min.css set `[hidden] { display: none !important; }` so we also need the `!important` here to be able to override the default hidden behavior on the sphinx rendered scikit-learn.org. See: https://github.com/scikit-learn/scikit-learn/issues/21755 */display: inline-block !important;position: relative;}#sk-container-id-2 div.sk-text-repr-fallback {display: none;}</style><div id=\"sk-container-id-2\" class=\"sk-top-container\"><div class=\"sk-text-repr-fallback\"><pre>LinearRegression()</pre><b>In a Jupyter environment, please rerun this cell to show the HTML representation or trust the notebook. <br />On GitHub, the HTML representation is unable to render, please try loading this page with nbviewer.org.</b></div><div class=\"sk-container\" hidden><div class=\"sk-item\"><div class=\"sk-estimator sk-toggleable\"><input class=\"sk-toggleable__control sk-hidden--visually\" id=\"sk-estimator-id-2\" type=\"checkbox\" checked><label for=\"sk-estimator-id-2\" class=\"sk-toggleable__label sk-toggleable__label-arrow\">LinearRegression</label><div class=\"sk-toggleable__content\"><pre>LinearRegression()</pre></div></div></div></div></div>"
      ],
      "text/plain": [
       "LinearRegression()"
      ]
     },
     "execution_count": 81,
     "metadata": {},
     "output_type": "execute_result"
    }
   ],
   "source": [
    "# выводим показатели качества модели на обучающей выборке\n",
    "lr = LinearRegression()\n",
    "print('MAE: ',\n",
    "      np.array(cross_val_score(lr, X_train[most_important_features], \n",
    "                               y_train, scoring='neg_mean_absolute_error', cv=5)).mean())\n",
    "print('MAPE: ', \n",
    "      np.array(cross_val_score(lr, X_train[most_important_features],\n",
    "                               y_train, scoring='neg_mean_absolute_percentage_error', cv=5)).mean())\n",
    "lr.fit(X_train[most_important_features], y_train)"
   ]
  },
  {
   "cell_type": "code",
   "execution_count": null,
   "metadata": {
    "colab": {
     "base_uri": "https://localhost:8080/"
    },
    "execution": {
     "iopub.execute_input": "2023-05-27T04:37:26.623715Z",
     "iopub.status.busy": "2023-05-27T04:37:26.623309Z",
     "iopub.status.idle": "2023-05-27T04:37:26.647795Z",
     "shell.execute_reply": "2023-05-27T04:37:26.645822Z",
     "shell.execute_reply.started": "2023-05-27T04:37:26.623684Z"
    },
    "id": "KcGZ_wk8qO40",
    "outputId": "b641cdd2-1835-4058-d696-e682289b155e"
   },
   "outputs": [
    {
     "name": "stdout",
     "output_type": "stream",
     "text": [
      "MAE:  0.36034819444685423\n",
      "MAPE : 0.023531624562503493\n"
     ]
    }
   ],
   "source": [
    "# выводим показатели качества модели на тестовой выборке\n",
    "predictions = lr.predict(X_test[most_important_features])\n",
    "print('MAE: ', mean_absolute_error(y_test, predictions))\n",
    "print('MAPE :', mean_absolute_percentage_error(y_test, predictions))"
   ]
  },
  {
   "cell_type": "code",
   "execution_count": null,
   "metadata": {
    "execution": {
     "iopub.execute_input": "2023-05-27T04:37:34.009529Z",
     "iopub.status.busy": "2023-05-27T04:37:34.009150Z",
     "iopub.status.idle": "2023-05-27T04:37:34.056512Z",
     "shell.execute_reply": "2023-05-27T04:37:34.055130Z",
     "shell.execute_reply.started": "2023-05-27T04:37:34.009501Z"
    },
    "id": "sSS-VJrjqO41"
   },
   "outputs": [],
   "source": [
    "# Улучшаем метрики с помощью feature engineering, добавим новые признаки год и месяц\n",
    "\n",
    "X_train['year'] = X_train['timestamp'].apply(lambda x: x[:4]).astype(int)\n",
    "X_train['month'] = X_train['timestamp'].apply(lambda x: x[5:7]).astype(int)\n",
    "\n",
    "X_test['year'] = X_test['timestamp'].apply(lambda x: x[:4]).astype(int)\n",
    "X_test['month'] = X_test['timestamp'].apply(lambda x: x[5:7]).astype(int)"
   ]
  },
  {
   "cell_type": "code",
   "execution_count": null,
   "metadata": {
    "colab": {
     "base_uri": "https://localhost:8080/",
     "height": 109
    },
    "execution": {
     "iopub.execute_input": "2023-05-27T04:38:17.773534Z",
     "iopub.status.busy": "2023-05-27T04:38:17.773147Z",
     "iopub.status.idle": "2023-05-27T04:38:18.515284Z",
     "shell.execute_reply": "2023-05-27T04:38:18.514053Z",
     "shell.execute_reply.started": "2023-05-27T04:38:17.773506Z"
    },
    "id": "nvkSVRXyqO41",
    "outputId": "67a38ae5-194f-4d21-b7e8-6102885dcc53"
   },
   "outputs": [
    {
     "name": "stdout",
     "output_type": "stream",
     "text": [
      "MAE:  -0.350094292200105\n",
      "MAPE:  -0.022902729632710978\n"
     ]
    },
    {
     "data": {
      "text/html": [
       "<style>#sk-container-id-3 {color: black;background-color: white;}#sk-container-id-3 pre{padding: 0;}#sk-container-id-3 div.sk-toggleable {background-color: white;}#sk-container-id-3 label.sk-toggleable__label {cursor: pointer;display: block;width: 100%;margin-bottom: 0;padding: 0.3em;box-sizing: border-box;text-align: center;}#sk-container-id-3 label.sk-toggleable__label-arrow:before {content: \"▸\";float: left;margin-right: 0.25em;color: #696969;}#sk-container-id-3 label.sk-toggleable__label-arrow:hover:before {color: black;}#sk-container-id-3 div.sk-estimator:hover label.sk-toggleable__label-arrow:before {color: black;}#sk-container-id-3 div.sk-toggleable__content {max-height: 0;max-width: 0;overflow: hidden;text-align: left;background-color: #f0f8ff;}#sk-container-id-3 div.sk-toggleable__content pre {margin: 0.2em;color: black;border-radius: 0.25em;background-color: #f0f8ff;}#sk-container-id-3 input.sk-toggleable__control:checked~div.sk-toggleable__content {max-height: 200px;max-width: 100%;overflow: auto;}#sk-container-id-3 input.sk-toggleable__control:checked~label.sk-toggleable__label-arrow:before {content: \"▾\";}#sk-container-id-3 div.sk-estimator input.sk-toggleable__control:checked~label.sk-toggleable__label {background-color: #d4ebff;}#sk-container-id-3 div.sk-label input.sk-toggleable__control:checked~label.sk-toggleable__label {background-color: #d4ebff;}#sk-container-id-3 input.sk-hidden--visually {border: 0;clip: rect(1px 1px 1px 1px);clip: rect(1px, 1px, 1px, 1px);height: 1px;margin: -1px;overflow: hidden;padding: 0;position: absolute;width: 1px;}#sk-container-id-3 div.sk-estimator {font-family: monospace;background-color: #f0f8ff;border: 1px dotted black;border-radius: 0.25em;box-sizing: border-box;margin-bottom: 0.5em;}#sk-container-id-3 div.sk-estimator:hover {background-color: #d4ebff;}#sk-container-id-3 div.sk-parallel-item::after {content: \"\";width: 100%;border-bottom: 1px solid gray;flex-grow: 1;}#sk-container-id-3 div.sk-label:hover label.sk-toggleable__label {background-color: #d4ebff;}#sk-container-id-3 div.sk-serial::before {content: \"\";position: absolute;border-left: 1px solid gray;box-sizing: border-box;top: 0;bottom: 0;left: 50%;z-index: 0;}#sk-container-id-3 div.sk-serial {display: flex;flex-direction: column;align-items: center;background-color: white;padding-right: 0.2em;padding-left: 0.2em;position: relative;}#sk-container-id-3 div.sk-item {position: relative;z-index: 1;}#sk-container-id-3 div.sk-parallel {display: flex;align-items: stretch;justify-content: center;background-color: white;position: relative;}#sk-container-id-3 div.sk-item::before, #sk-container-id-3 div.sk-parallel-item::before {content: \"\";position: absolute;border-left: 1px solid gray;box-sizing: border-box;top: 0;bottom: 0;left: 50%;z-index: -1;}#sk-container-id-3 div.sk-parallel-item {display: flex;flex-direction: column;z-index: 1;position: relative;background-color: white;}#sk-container-id-3 div.sk-parallel-item:first-child::after {align-self: flex-end;width: 50%;}#sk-container-id-3 div.sk-parallel-item:last-child::after {align-self: flex-start;width: 50%;}#sk-container-id-3 div.sk-parallel-item:only-child::after {width: 0;}#sk-container-id-3 div.sk-dashed-wrapped {border: 1px dashed gray;margin: 0 0.4em 0.5em 0.4em;box-sizing: border-box;padding-bottom: 0.4em;background-color: white;}#sk-container-id-3 div.sk-label label {font-family: monospace;font-weight: bold;display: inline-block;line-height: 1.2em;}#sk-container-id-3 div.sk-label-container {text-align: center;}#sk-container-id-3 div.sk-container {/* jupyter's `normalize.less` sets `[hidden] { display: none; }` but bootstrap.min.css set `[hidden] { display: none !important; }` so we also need the `!important` here to be able to override the default hidden behavior on the sphinx rendered scikit-learn.org. See: https://github.com/scikit-learn/scikit-learn/issues/21755 */display: inline-block !important;position: relative;}#sk-container-id-3 div.sk-text-repr-fallback {display: none;}</style><div id=\"sk-container-id-3\" class=\"sk-top-container\"><div class=\"sk-text-repr-fallback\"><pre>LinearRegression()</pre><b>In a Jupyter environment, please rerun this cell to show the HTML representation or trust the notebook. <br />On GitHub, the HTML representation is unable to render, please try loading this page with nbviewer.org.</b></div><div class=\"sk-container\" hidden><div class=\"sk-item\"><div class=\"sk-estimator sk-toggleable\"><input class=\"sk-toggleable__control sk-hidden--visually\" id=\"sk-estimator-id-3\" type=\"checkbox\" checked><label for=\"sk-estimator-id-3\" class=\"sk-toggleable__label sk-toggleable__label-arrow\">LinearRegression</label><div class=\"sk-toggleable__content\"><pre>LinearRegression()</pre></div></div></div></div></div>"
      ],
      "text/plain": [
       "LinearRegression()"
      ]
     },
     "execution_count": 85,
     "metadata": {},
     "output_type": "execute_result"
    }
   ],
   "source": [
    "# выводим показатели качества модели на обучающей выборке\n",
    "lr = LinearRegression()\n",
    "print('MAE: ',\n",
    "      np.array(cross_val_score(lr, X_train[most_important_features + ['year', 'month']], \n",
    "                               y_train, scoring='neg_mean_absolute_error', cv=5)).mean())\n",
    "print('MAPE: ', \n",
    "      np.array(cross_val_score(lr, X_train[most_important_features + ['year', 'month']],\n",
    "                               y_train, scoring='neg_mean_absolute_percentage_error', cv=5)).mean())\n",
    "lr.fit(X_train[most_important_features + ['year', 'month']], y_train)"
   ]
  },
  {
   "cell_type": "code",
   "execution_count": null,
   "metadata": {
    "colab": {
     "base_uri": "https://localhost:8080/"
    },
    "execution": {
     "iopub.execute_input": "2023-05-27T04:42:02.666095Z",
     "iopub.status.busy": "2023-05-27T04:42:02.665638Z",
     "iopub.status.idle": "2023-05-27T04:42:02.684398Z",
     "shell.execute_reply": "2023-05-27T04:42:02.683277Z",
     "shell.execute_reply.started": "2023-05-27T04:42:02.666063Z"
    },
    "id": "J-P4_Wc7qO41",
    "outputId": "ec3effb7-76af-4b80-ca82-e24d7aaff053"
   },
   "outputs": [
    {
     "name": "stdout",
     "output_type": "stream",
     "text": [
      "MAE:  0.3466520065538308\n",
      "MAPE : 0.0226393505303053\n"
     ]
    }
   ],
   "source": [
    "# выводим показатели качества модели на тестовой выборке\n",
    "# новые признаки незначительно улучшили нашу модель\n",
    "predictions = lr.predict(X_test[most_important_features + ['year', 'month']])\n",
    "print('MAE: ', mean_absolute_error(y_test, predictions))\n",
    "print('MAPE :', mean_absolute_percentage_error(y_test, predictions))"
   ]
  },
  {
   "cell_type": "markdown",
   "metadata": {
    "id": "_nROWZ0vqO42"
   },
   "source": [
    "Используя методы feature engineering получаем высокое качество модели"
   ]
  }
 ],
 "metadata": {
  "colab": {
   "provenance": []
  },
  "kernelspec": {
   "display_name": "Python 3 (ipykernel)",
   "language": "python",
   "name": "python3"
  },
  "language_info": {
   "codemirror_mode": {
    "name": "ipython",
    "version": 3
   },
   "file_extension": ".py",
   "mimetype": "text/x-python",
   "name": "python",
   "nbconvert_exporter": "python",
   "pygments_lexer": "ipython3",
   "version": "3.9.13"
  }
 },
 "nbformat": 4,
 "nbformat_minor": 1
}
