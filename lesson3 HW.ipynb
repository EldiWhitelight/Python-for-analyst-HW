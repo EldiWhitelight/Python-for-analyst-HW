{
 "cells": [
  {
   "cell_type": "code",
   "execution_count": null,
   "metadata": {
    "id": "UEO4p4NtiOmb"
   },
   "outputs": [],
   "source": [
    "\n",
    "import pandas as pd\n",
    "\n",
    "hp = pd.read_csv('/content/home_page_table.csv') \n",
    "pc = pd.read_csv('/content/payment_confirmation_table.csv') \n",
    "pp = pd.read_csv('/content/payment_page_table.csv') \n",
    "sp = pd.read_csv('/content/search_page_table.csv')\n",
    "ut = pd.read_csv('/content/user_table.csv')"
   ]
  },
  {
   "cell_type": "code",
   "execution_count": null,
   "metadata": {
    "id": "51web9mNicfh"
   },
   "outputs": [],
   "source": [
    "hp = hp.rename(columns={'page': 'hp'})\n",
    "pc = pc.rename(columns={'page': 'pc'})\n",
    "pp = pp.rename(columns={'page': 'pp'})\n",
    "sp = sp.rename(columns={'page': 'sp'})"
   ]
  },
  {
   "cell_type": "code",
   "execution_count": null,
   "metadata": {
    "id": "8VkwG0KnidyL"
   },
   "outputs": [],
   "source": [
    "ds = ut.merge(hp, on='user_id', how='left').merge(sp, on='user_id', how='left') \\\n",
    "       .merge(pp, on='user_id', how='left').merge(pc, on='user_id', how='left')"
   ]
  },
  {
   "cell_type": "code",
   "execution_count": null,
   "metadata": {
    "id": "nglhLD3QifIy"
   },
   "outputs": [],
   "source": [
    "ds['hp'] = ds['hp'].apply(lambda x: 1 if x == 'home_page' else 0)\n",
    "ds['pc'] = ds['pc'].apply(lambda x: 1 if x == 'payment_confirmation_page' else 0)\n",
    "ds['pp'] = ds['pp'].apply(lambda x: 1 if x == 'payment_page' else 0)\n",
    "ds['sp'] = ds['sp'].apply(lambda x: 1 if x == 'search_page' else 0)"
   ]
  },
  {
   "cell_type": "code",
   "execution_count": null,
   "metadata": {
    "id": "MrjkJyS9ihCW"
   },
   "outputs": [],
   "source": [
    "dsg = ds.groupby('sex')[['hp', 'sp', 'pp', 'pc']].sum().unstack('sex').unstack('sex').reset_index()\n",
    "dsg.columns.name = None\n",
    "dsg = dsg.rename(columns = {'index': 'page'})"
   ]
  },
  {
   "cell_type": "code",
   "execution_count": null,
   "metadata": {
    "id": "mwjuQefLuWFD"
   },
   "outputs": [],
   "source": [
    "dsg"
   ]
  },
  {
   "cell_type": "code",
   "execution_count": null,
   "metadata": {
    "id": "RqVclB7Sit4u"
   },
   "outputs": [],
   "source": [
    "#Использовать датасет с текущего урока и построить сегментированную воронку конверсии пользователей \n",
    "#интернет-магазина по полу\n",
    "from plotly import graph_objects as go\n",
    "fig = go.Figure(go.Funnel(\n",
    "    y = dsg['page'],\n",
    "    x = dsg['Female'],\n",
    "    textinfo = 'value + percent previous',\n",
    "    name = 'Female'\n",
    "))\n",
    "\n",
    "fig.add_trace(go.Funnel( \n",
    "    y = dsg['page'],\n",
    "    x = dsg['Male'],\n",
    "    textinfo = 'value + percent previous',\n",
    "    name = 'Male'\n",
    "))\n",
    "\n",
    "fig.update_layout(\n",
    "    title = 'Воронка конверсии по половому признаку',\n",
    "    title_x = 0.5,\n",
    "    autosize = False,\n",
    "    width = 1400,\n",
    "    height = 700\n",
    ")\n",
    "\n",
    "fig.show()"
   ]
  },
  {
   "cell_type": "code",
   "execution_count": null,
   "metadata": {
    "id": "yJZ4Id5xit9W"
   },
   "outputs": [],
   "source": [
    "#Создать 2 новые фичи на основе колонки “date”\n",
    "ds['date'] = ds['date'].apply(pd.to_datetime)\n",
    "ds['month'] = ds['date'].dt.month\n",
    "ds['day'] = ds['date'].dt.day_of_week()"
   ]
  },
  {
   "cell_type": "code",
   "execution_count": null,
   "metadata": {
    "id": "uh2xtZVyrgd0"
   },
   "outputs": [],
   "source": [
    "#самый топовый по продажам месяц и день недели с помощью базовых методов агрегации (sum или count).\n",
    "#месяц\n",
    "dpc = ds.groupby('month')[['pc']].sum().reset_index() \n",
    "dpc"
   ]
  },
  {
   "cell_type": "code",
   "execution_count": null,
   "metadata": {
    "id": "OvKgBJ0HrixR"
   },
   "outputs": [],
   "source": [
    "#самый топовый по продажам месяц и день недели с помощью базовых методов агрегации (sum или count).\n",
    "#день недели\n",
    "dpd = ds.groupby('day')[['pc']].sum().reset_index() \n",
    "dpd"
   ]
  },
  {
   "cell_type": "code",
   "execution_count": null,
   "metadata": {},
   "outputs": [],
   "source": [
    "#в какой день недели лучше покупают женщины, а в какой мужчины\n",
    "pd.crosstab(index = ds['day'], columns = ds['sex'], normalize = 'columns')"
   ]
  }
 ],
 "metadata": {
  "colab": {
   "provenance": []
  },
  "kernelspec": {
   "display_name": "Python 3 (ipykernel)",
   "language": "python",
   "name": "python3"
  },
  "language_info": {
   "codemirror_mode": {
    "name": "ipython",
    "version": 3
   },
   "file_extension": ".py",
   "mimetype": "text/x-python",
   "name": "python",
   "nbconvert_exporter": "python",
   "pygments_lexer": "ipython3",
   "version": "3.9.13"
  }
 },
 "nbformat": 4,
 "nbformat_minor": 1
}
